{
  "nbformat": 4,
  "nbformat_minor": 0,
  "metadata": {
    "colab": {
      "provenance": [],
      "include_colab_link": true
    },
    "kernelspec": {
      "name": "python3",
      "display_name": "Python 3"
    },
    "language_info": {
      "name": "python"
    }
  },
  "cells": [
    {
      "cell_type": "markdown",
      "metadata": {
        "id": "view-in-github",
        "colab_type": "text"
      },
      "source": [
        "<a href=\"https://colab.research.google.com/github/vatsal-kr/Recipe-KMST/blob/main/KMST_Project.ipynb\" target=\"_parent\"><img src=\"https://colab.research.google.com/assets/colab-badge.svg\" alt=\"Open In Colab\"/></a>"
      ]
    },
    {
      "cell_type": "code",
      "source": [
        "!pip install --quiet SPARQLWrapper\n",
        "!pip install anvil-uplink"
      ],
      "metadata": {
        "id": "oMmTyznRl-DP",
        "colab": {
          "base_uri": "https://localhost:8080/",
          "height": 468
        },
        "outputId": "13be85b2-d136-40f4-dabb-6cf85325fe1f"
      },
      "execution_count": null,
      "outputs": [
        {
          "output_type": "stream",
          "name": "stdout",
          "text": [
            "\u001b[2K     \u001b[90m━━━━━━━━━━━━━━━━━━━━━━━━━━━━━━━━━━━━━━\u001b[0m \u001b[32m528.1/528.1 kB\u001b[0m \u001b[31m12.8 MB/s\u001b[0m eta \u001b[36m0:00:00\u001b[0m\n",
            "\u001b[2K     \u001b[90m━━━━━━━━━━━━━━━━━━━━━━━━━━━━━━━━━━━━━━━━\u001b[0m \u001b[32m41.7/41.7 kB\u001b[0m \u001b[31m2.6 MB/s\u001b[0m eta \u001b[36m0:00:00\u001b[0m\n",
            "\u001b[?25hLooking in indexes: https://pypi.org/simple, https://us-python.pkg.dev/colab-wheels/public/simple/\n",
            "Collecting anvil-uplink\n",
            "  Downloading anvil_uplink-0.4.2-py2.py3-none-any.whl (90 kB)\n",
            "\u001b[2K     \u001b[90m━━━━━━━━━━━━━━━━━━━━━━━━━━━━━━━━━━━━━━━━\u001b[0m \u001b[32m90.1/90.1 kB\u001b[0m \u001b[31m5.8 MB/s\u001b[0m eta \u001b[36m0:00:00\u001b[0m\n",
            "\u001b[?25hCollecting argparse\n",
            "  Downloading argparse-1.4.0-py2.py3-none-any.whl (23 kB)\n",
            "Requirement already satisfied: future in /usr/local/lib/python3.9/dist-packages (from anvil-uplink) (0.18.3)\n",
            "Requirement already satisfied: six in /usr/local/lib/python3.9/dist-packages (from anvil-uplink) (1.16.0)\n",
            "Collecting ws4py\n",
            "  Downloading ws4py-0.5.1.tar.gz (51 kB)\n",
            "\u001b[2K     \u001b[90m━━━━━━━━━━━━━━━━━━━━━━━━━━━━━━━━━━━━━━━━\u001b[0m \u001b[32m51.4/51.4 kB\u001b[0m \u001b[31m6.7 MB/s\u001b[0m eta \u001b[36m0:00:00\u001b[0m\n",
            "\u001b[?25h  Preparing metadata (setup.py) ... \u001b[?25l\u001b[?25hdone\n",
            "Building wheels for collected packages: ws4py\n",
            "  Building wheel for ws4py (setup.py) ... \u001b[?25l\u001b[?25hdone\n",
            "  Created wheel for ws4py: filename=ws4py-0.5.1-py3-none-any.whl size=45228 sha256=720f8b0ee0bc1e6958f0a2ee452d594b0d52ab28bf74bd5959a7f65f399a0902\n",
            "  Stored in directory: /root/.cache/pip/wheels/e8/9d/fd/0a594a1bc8d493935d319ac40d64d79f5b4117ef4d37b1b678\n",
            "Successfully built ws4py\n",
            "Installing collected packages: ws4py, argparse, anvil-uplink\n",
            "Successfully installed anvil-uplink-0.4.2 argparse-1.4.0 ws4py-0.5.1\n"
          ]
        },
        {
          "output_type": "display_data",
          "data": {
            "application/vnd.colab-display-data+json": {
              "pip_warning": {
                "packages": [
                  "argparse",
                  "google"
                ]
              }
            }
          },
          "metadata": {}
        }
      ]
    },
    {
      "cell_type": "code",
      "source": [
        "import anvil.server\n"
      ],
      "metadata": {
        "id": "QS190fVrIu_r"
      },
      "execution_count": null,
      "outputs": []
    },
    {
      "cell_type": "code",
      "source": [
        "anvil.server.connect(\"server_WIONFUIB7XXXWRJEH27B4TD2-DERCMR7TIJFOJCY3\")"
      ],
      "metadata": {
        "id": "qNx24XDxJVor",
        "colab": {
          "base_uri": "https://localhost:8080/"
        },
        "outputId": "be81d08f-0320-409d-d407-715a741b47ae"
      },
      "execution_count": null,
      "outputs": [
        {
          "output_type": "stream",
          "name": "stdout",
          "text": [
            "Connecting to wss://anvil.works/uplink\n",
            "Anvil websocket open\n",
            "Connected to \"Default Environment\" as SERVER\n"
          ]
        }
      ]
    },
    {
      "cell_type": "code",
      "execution_count": null,
      "metadata": {
        "id": "NGV0_1pskh0m"
      },
      "outputs": [],
      "source": [
        "from SPARQLWrapper import SPARQLWrapper, JSON\n",
        "import requests\n",
        "import pandas as pd\n",
        "\n",
        "sparql = SPARQLWrapper(\"https://query.wikidata.org/sparql\")"
      ]
    },
    {
      "cell_type": "code",
      "source": [
        "# get list of common ingredients\n",
        "\n",
        "ing_qstr = \"\"\"SELECT DISTINCT ?ing ?ingLabel\n",
        "WHERE\n",
        "{\n",
        "    ?food wdt:P279 wd:Q2095;\n",
        "        wdt:P527 ?ing.\n",
        "SERVICE wikibase:label { bd:serviceParam wikibase:language \"en\". }\n",
        "}\"\"\"\n",
        "sparql.setQuery(ing_qstr)\n",
        "sparql.setReturnFormat(JSON)\n",
        "ings = sparql.query().convert()"
      ],
      "metadata": {
        "id": "gIzzOdi1OIe7"
      },
      "execution_count": null,
      "outputs": []
    },
    {
      "cell_type": "code",
      "source": [
        "ings_df = pd.io.json.json_normalize(ings['results']['bindings'])\n",
        "ings_df = ings_df[['ing.value', 'ingLabel.value']]\n",
        "ings_df.columns = ['qid', 'name']\n",
        "ings_df['qid'] = ings_df['qid'].str.split('/').str[-1]"
      ],
      "metadata": {
        "id": "qlQW4d-0QL35",
        "colab": {
          "base_uri": "https://localhost:8080/"
        },
        "outputId": "d8e32c4c-700c-432f-f200-74efbaab477f"
      },
      "execution_count": null,
      "outputs": [
        {
          "output_type": "stream",
          "name": "stderr",
          "text": [
            "<ipython-input-6-c4cd6b13ce46>:1: FutureWarning: pandas.io.json.json_normalize is deprecated, use pandas.json_normalize instead.\n",
            "  ings_df = pd.io.json.json_normalize(ings['results']['bindings'])\n"
          ]
        }
      ]
    },
    {
      "cell_type": "code",
      "source": [
        "ings_dct = dict(zip(ings_df['name'], ings_df['qid']))"
      ],
      "metadata": {
        "id": "6r4yzRKzRVP_"
      },
      "execution_count": null,
      "outputs": []
    },
    {
      "cell_type": "code",
      "source": [
        "''' get closest match of entered ingredient and available list of ingredients '''"
      ],
      "metadata": {
        "colab": {
          "base_uri": "https://localhost:8080/",
          "height": 35
        },
        "id": "v-IZ-3GrSk0G",
        "outputId": "65e47518-6d82-4020-de5a-eaa4dd53e449"
      },
      "execution_count": null,
      "outputs": [
        {
          "output_type": "execute_result",
          "data": {
            "text/plain": [
              "' get closest match of entered ingredient and available list of ingredients '"
            ],
            "application/vnd.google.colaboratory.intrinsic+json": {
              "type": "string"
            }
          },
          "metadata": {},
          "execution_count": 8
        }
      ]
    },
    {
      "cell_type": "code",
      "source": [
        "def wiki_id(name):\n",
        "  if name not in ings_dct:\n",
        "    for dct_name, qid in ings_dct.items():\n",
        "      if (name in dct_name) or (dct_name in name):\n",
        "        return qid\n",
        "    return None\n",
        "  else:\n",
        "    return ings_dct[name]"
      ],
      "metadata": {
        "id": "HxH-dyr8S6q8"
      },
      "execution_count": null,
      "outputs": []
    },
    {
      "cell_type": "code",
      "source": [
        "def form_query(required_ing, forbidden_ing):\n",
        "  query = [\n",
        "    'SELECT DISTINCT ?food ?ingredient ?foodLabel ?ingredientLabel',\n",
        "    'WHERE',\n",
        "    '{'\n",
        "  ]\n",
        "\n",
        "  temp_union_query = [f'{{?food wdt:P527 wd:{x}.}}' for x in required_ing]\n",
        "  for e in temp_union_query:\n",
        "    query.append(e)\n",
        "    query.append('UNION')\n",
        "  query.pop()\n",
        "\n",
        "  if len(forbidden_ing)>0:\n",
        "    minus_query = [f'MINUS {{ ?food wdt:P527 wd:{x}. }}' for x in forbidden_ing]\n",
        "\n",
        "    query.extend(minus_query)\n",
        "\n",
        "  query_end = [\n",
        "      '?food wdt:P527 ?ingredient.',\n",
        "      'SERVICE wikibase:label { bd:serviceParam wikibase:language \"en\". }',\n",
        "      '}',\n",
        "  ]\n",
        "  query.extend(query_end)\n",
        "  return query"
      ],
      "metadata": {
        "id": "X8ZLuyplmtV3"
      },
      "execution_count": null,
      "outputs": []
    },
    {
      "cell_type": "code",
      "source": [
        "\n",
        "def get_results(required_ing, forbidden_ing, return_query=False):\n",
        "  required_ing = [wiki_id(x) for x in required_ing if wiki_id(x) is not None]\n",
        "  forbidden_ing = [wiki_id(x) for x in forbidden_ing if wiki_id(x) is not None]\n",
        "  \n",
        "  formatted_query = '\\n'.join(form_query(required_ing, forbidden_ing))\n",
        "\n",
        "  sparql.setQuery(' '.join(form_query(required_ing, forbidden_ing)))\n",
        "  sparql.setReturnFormat(JSON)\n",
        "  results = sparql.query().convert()\n",
        "\n",
        "  df = pd.json_normalize(results['results']['bindings'])\n",
        "  df = df[['foodLabel.value', 'ingredientLabel.value']]\n",
        "  df.columns = ['Food', 'Ingredients']\n",
        "  df = df.sort_values(by=['Food', 'Ingredients'])\n",
        "  df = df.sort_values(by=['Food', 'Ingredients']).reset_index(drop=True)\n",
        "\n",
        "  return df, formatted_query"
      ],
      "metadata": {
        "id": "0edZGyyimscA"
      },
      "execution_count": null,
      "outputs": []
    },
    {
      "cell_type": "code",
      "source": [
        "@anvil.server.callable\n",
        "def fetch_recipes(required_ingredients,prohibited_ingredients):\n",
        "  required = required_ingredients.split()\n",
        "  forbidden = prohibited_ingredients.split()\n",
        "\n",
        "  results, query = get_results(required, forbidden)\n",
        "\n",
        "  if results.empty:\n",
        "    val = False\n",
        "  else:\n",
        "    val = True\n",
        "  \n",
        "  return results.to_markdown(), val\n"
      ],
      "metadata": {
        "id": "u6dPKgn1ZdXM"
      },
      "execution_count": null,
      "outputs": []
    },
    {
      "cell_type": "code",
      "source": [
        "anvil.server.wait_forever()"
      ],
      "metadata": {
        "id": "Tq-noD7-JxvO",
        "colab": {
          "base_uri": "https://localhost:8080/",
          "height": 252
        },
        "outputId": "43d17c94-6b3d-4f9c-9aef-11a9364648b7"
      },
      "execution_count": null,
      "outputs": [
        {
          "output_type": "error",
          "ename": "KeyboardInterrupt",
          "evalue": "ignored",
          "traceback": [
            "\u001b[0;31m---------------------------------------------------------------------------\u001b[0m",
            "\u001b[0;31mKeyboardInterrupt\u001b[0m                         Traceback (most recent call last)",
            "\u001b[0;32m<ipython-input-13-95cac3476493>\u001b[0m in \u001b[0;36m<cell line: 1>\u001b[0;34m()\u001b[0m\n\u001b[0;32m----> 1\u001b[0;31m \u001b[0manvil\u001b[0m\u001b[0;34m.\u001b[0m\u001b[0mserver\u001b[0m\u001b[0;34m.\u001b[0m\u001b[0mwait_forever\u001b[0m\u001b[0;34m(\u001b[0m\u001b[0;34m)\u001b[0m\u001b[0;34m\u001b[0m\u001b[0;34m\u001b[0m\u001b[0m\n\u001b[0m",
            "\u001b[0;32m/usr/local/lib/python3.9/dist-packages/anvil/server.py\u001b[0m in \u001b[0;36mwait_forever\u001b[0;34m()\u001b[0m\n\u001b[1;32m    435\u001b[0m     \u001b[0m_get_connection\u001b[0m\u001b[0;34m(\u001b[0m\u001b[0;34m)\u001b[0m\u001b[0;34m\u001b[0m\u001b[0;34m\u001b[0m\u001b[0m\n\u001b[1;32m    436\u001b[0m     \u001b[0;32mwhile\u001b[0m \u001b[0;32mTrue\u001b[0m\u001b[0;34m:\u001b[0m\u001b[0;34m\u001b[0m\u001b[0;34m\u001b[0m\u001b[0m\n\u001b[0;32m--> 437\u001b[0;31m         \u001b[0mtime\u001b[0m\u001b[0;34m.\u001b[0m\u001b[0msleep\u001b[0m\u001b[0;34m(\u001b[0m\u001b[0;36m1\u001b[0m\u001b[0;34m)\u001b[0m\u001b[0;34m\u001b[0m\u001b[0;34m\u001b[0m\u001b[0m\n\u001b[0m",
            "\u001b[0;31mKeyboardInterrupt\u001b[0m: "
          ]
        }
      ]
    },
    {
      "cell_type": "code",
      "source": [
        "# required = ['tomato', 'bread']\n",
        "# forbidden = ['mayonnaise', 'onion']\n",
        "\n",
        "# results, query = get_results(required, forbidden)"
      ],
      "metadata": {
        "id": "_t4-eBK1peVB"
      },
      "execution_count": null,
      "outputs": []
    },
    {
      "cell_type": "code",
      "source": [
        "results"
      ],
      "metadata": {
        "id": "4LcujFD0Oomt"
      },
      "execution_count": null,
      "outputs": []
    },
    {
      "cell_type": "code",
      "source": [],
      "metadata": {
        "id": "MsiND1CWqkRw"
      },
      "execution_count": null,
      "outputs": []
    }
  ]
}